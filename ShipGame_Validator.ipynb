{
  "nbformat": 4,
  "nbformat_minor": 0,
  "metadata": {
    "colab": {
      "provenance": [],
      "authorship_tag": "ABX9TyPKgN7c0b0WV7YdXUB+vExH",
      "include_colab_link": true
    },
    "kernelspec": {
      "name": "python3",
      "display_name": "Python 3"
    },
    "language_info": {
      "name": "python"
    }
  },
  "cells": [
    {
      "cell_type": "markdown",
      "metadata": {
        "id": "view-in-github",
        "colab_type": "text"
      },
      "source": [
        "<a href=\"https://colab.research.google.com/github/RomaBugiel/Python_training/blob/working_branch/ShipGame_Validator.ipynb\" target=\"_parent\"><img src=\"https://colab.research.google.com/assets/colab-badge.svg\" alt=\"Open In Colab\"/></a>"
      ]
    },
    {
      "cell_type": "code",
      "execution_count": null,
      "metadata": {
        "id": "FLpr5vMKFnf_"
      },
      "outputs": [],
      "source": []
    },
    {
      "cell_type": "markdown",
      "source": [
        "Validate ship game board:\n",
        "* all ships has to be used\n",
        "* ship sizes: [number x length]: [1x1], [2x2], [2x3], [1x4], [1x5]\n",
        "* can be only horizontal or verical\n",
        "* cannot touch\n",
        "\n",
        "\n"
      ],
      "metadata": {
        "id": "A0bAz64gslYK"
      }
    },
    {
      "cell_type": "code",
      "source": [
        "def validateMap(check_list):\n",
        "  return all(check_list)"
      ],
      "metadata": {
        "id": "zRq41nCXtdk_"
      },
      "execution_count": 5,
      "outputs": []
    },
    {
      "cell_type": "code",
      "source": [
        "def findShips(data):\n",
        "    # Store ships\n",
        "    ship_list = []\n",
        "\n",
        "    # Board sizes\n",
        "    data_size_x = len(data)\n",
        "    data_size_y = len(data[0])\n",
        "\n",
        "    # List of fields that have been checked\n",
        "    checked_field = [[0 for _ in range(data_size_y)] for _ in range(data_size_x)]\n",
        "\n",
        "    # Iterate through the board\n",
        "    for r in range(data_size_x):\n",
        "        for c in range(data_size_y):\n",
        "            # Skip if checked\n",
        "            if checked_field[r][c] == 1:\n",
        "                continue\n",
        "\n",
        "            # New ship\n",
        "            if data[r][c] == 1 and checked_field[r][c] == 0:\n",
        "                ship = set()\n",
        "                ship_seed = (r, c)\n",
        "                ship.add(ship_seed)\n",
        "                checked_field[r][c] = 1\n",
        "\n",
        "                # Check fields around seed\n",
        "                step_vertical = [-1, 0, 1]\n",
        "                step_horizontal = [-1, 0, 1]\n",
        "\n",
        "                #\n",
        "                stack = [ship_seed]\n",
        "\n",
        "                while stack:\n",
        "                    current = stack.pop() # remove from list and check neighbours\n",
        "                    for stepv in step_vertical:\n",
        "                        for steph in step_horizontal:\n",
        "                            new_pos = (current[0] + stepv, current[1] + steph)\n",
        "\n",
        "                            # Check borders and check checked_field\n",
        "                            if (0 <= new_pos[0] < data_size_x and\n",
        "                                0 <= new_pos[1] < data_size_y and\n",
        "                                checked_field[new_pos[0]][new_pos[1]] == 0):\n",
        "\n",
        "                                if data[new_pos[0]][new_pos[1]] == 1:\n",
        "                                    ship.add(new_pos)\n",
        "                                    stack.append(new_pos)\n",
        "\n",
        "                                checked_field[new_pos[0]][new_pos[1]] = 1\n",
        "\n",
        "                # Dodanie statku do listy\n",
        "                ship_list.append(list(ship))\n",
        "\n",
        "    return ship_list"
      ],
      "metadata": {
        "colab": {
          "base_uri": "https://localhost:8080/",
          "height": 106
        },
        "id": "kRl5xc4xzz4z",
        "outputId": "97bbec02-a617-4bbd-a8d7-621554e14a3c"
      },
      "execution_count": 17,
      "outputs": [
        {
          "output_type": "error",
          "ename": "SyntaxError",
          "evalue": "invalid syntax (<ipython-input-17-6099d5296ffd>, line 19)",
          "traceback": [
            "\u001b[0;36m  File \u001b[0;32m\"<ipython-input-17-6099d5296ffd>\"\u001b[0;36m, line \u001b[0;32m19\u001b[0m\n\u001b[0;31m    if data[r][c] == 1 && checked_field[r][c]==0:\u001b[0m\n\u001b[0m                        ^\u001b[0m\n\u001b[0;31mSyntaxError\u001b[0m\u001b[0;31m:\u001b[0m invalid syntax\n"
          ]
        }
      ]
    },
    {
      "cell_type": "code",
      "source": [
        "def transform_to_2D(data):\n",
        "\n",
        "    # Divide data into rows\n",
        "    rows = data.strip().split('\\n')\n",
        "    # Divied rows into elements\n",
        "    matrix = [ [1 if element == 'x' else 0 for element in row.split()] for row in rows ]\n",
        "\n",
        "    return matrix"
      ],
      "metadata": {
        "id": "OOl92-SJuAcc"
      },
      "execution_count": 11,
      "outputs": []
    },
    {
      "cell_type": "code",
      "source": [
        "print(\"Start validation\")\n",
        "\n",
        "# Data\n",
        "\n",
        "data = \"\"\"\n",
        "  . x . . . . x .\n",
        "  . x . x x . . .\n",
        "  . . . . . . . .\n",
        "  . x x x x x . .\n",
        "  . . . . . . . .\n",
        "  x x x . . x . x\n",
        "  . . . . . x . .\n",
        "  x x x x . x . .\n",
        "\"\"\"\n",
        "\n",
        "# Body\n",
        "\n",
        "# -- Transform data into 2D list with numerical data\n",
        "data_num = transform_to_2D(data)\n",
        "for row in data_num:\n",
        "  print(row)\n",
        "\n",
        "\n",
        "\n",
        "\n",
        "_check_list = [True, True, True]\n",
        "_is_map_correct = validateMap(_check_list)\n",
        "\n",
        "\n",
        "if _is_map_correct == 1:\n",
        "    print(\"Validation finished: Map correct\")\n",
        "else:\n",
        "    print(\"Validation finished: Map wrong\")\n"
      ],
      "metadata": {
        "colab": {
          "base_uri": "https://localhost:8080/"
        },
        "id": "6YWFAYPZsnx2",
        "outputId": "d16ef271-f943-434d-f565-0b3e484a632e"
      },
      "execution_count": 13,
      "outputs": [
        {
          "output_type": "stream",
          "name": "stdout",
          "text": [
            "Start validation\n",
            "[0, 1, 0, 0, 0, 0, 1, 0]\n",
            "[0, 1, 0, 1, 1, 0, 0, 0]\n",
            "[0, 0, 0, 0, 0, 0, 0, 0]\n",
            "[0, 1, 1, 1, 1, 1, 0, 0]\n",
            "[0, 0, 0, 0, 0, 0, 0, 0]\n",
            "[1, 1, 1, 0, 0, 1, 0, 1]\n",
            "[0, 0, 0, 0, 0, 1, 0, 0]\n",
            "[1, 1, 1, 1, 0, 1, 0, 0]\n",
            "Validation finished: Map correct\n"
          ]
        }
      ]
    },
    {
      "cell_type": "code",
      "source": [],
      "metadata": {
        "id": "2bVybDIrtzLr"
      },
      "execution_count": null,
      "outputs": []
    }
  ]
}