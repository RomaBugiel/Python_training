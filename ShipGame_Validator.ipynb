{
  "nbformat": 4,
  "nbformat_minor": 0,
  "metadata": {
    "colab": {
      "provenance": [],
      "authorship_tag": "ABX9TyNL/spUEjefd61J5WqhlDMQ",
      "include_colab_link": true
    },
    "kernelspec": {
      "name": "python3",
      "display_name": "Python 3"
    },
    "language_info": {
      "name": "python"
    }
  },
  "cells": [
    {
      "cell_type": "markdown",
      "metadata": {
        "id": "view-in-github",
        "colab_type": "text"
      },
      "source": [
        "<a href=\"https://colab.research.google.com/github/RomaBugiel/Python_training/blob/working_branch/ShipGame_Validator.ipynb\" target=\"_parent\"><img src=\"https://colab.research.google.com/assets/colab-badge.svg\" alt=\"Open In Colab\"/></a>"
      ]
    },
    {
      "cell_type": "code",
      "execution_count": null,
      "metadata": {
        "id": "FLpr5vMKFnf_"
      },
      "outputs": [],
      "source": []
    },
    {
      "cell_type": "markdown",
      "source": [
        "Validate ship game board:\n",
        "* all ships has to be used\n",
        "* ship sizes: [number x length]: [1x1], [2x2], [2x3], [1x4], [1x5]\n",
        "* can be only horizontal or verical\n",
        "* cannot touch\n",
        "\n",
        "\n"
      ],
      "metadata": {
        "id": "A0bAz64gslYK"
      }
    },
    {
      "cell_type": "code",
      "source": [
        "def validateMap(check_list):\n",
        "  return all(check_list)"
      ],
      "metadata": {
        "id": "zRq41nCXtdk_"
      },
      "execution_count": 5,
      "outputs": []
    },
    {
      "cell_type": "code",
      "source": [
        "def transform_to_2D(data):\n",
        "\n",
        "    # Divide data into rows\n",
        "    rows = data.strip().split('\\n')\n",
        "    # Divied rows into elements\n",
        "    matrix = [ [1 if element == 'x' else 0 for element in row.split()] for row in rows ]\n",
        "\n",
        "    return matrix"
      ],
      "metadata": {
        "id": "OOl92-SJuAcc"
      },
      "execution_count": 11,
      "outputs": []
    },
    {
      "cell_type": "code",
      "source": [
        "print(\"Start validation\")\n",
        "\n",
        "# Data\n",
        "\n",
        "data = \"\"\"\n",
        "  . x . . . . x .\n",
        "  . x . x x . . .\n",
        "  . . . . . . . .\n",
        "  . x x x x x . .\n",
        "  . . . . . . . .\n",
        "  x x x . . x . x\n",
        "  . . . . . x . .\n",
        "  x x x x . x . .\n",
        "\"\"\"\n",
        "\n",
        "# Body\n",
        "\n",
        "# -- Transform data into 2D list with numerical data\n",
        "data_num = transform_to_2D(data)\n",
        "for row in data_num:\n",
        "  print(row)\n",
        "\n",
        "\n",
        "\n",
        "\n",
        "_check_list = [True, True, True]\n",
        "_is_map_correct = validateMap(_check_list)\n",
        "\n",
        "\n",
        "if _is_map_correct == 1:\n",
        "    print(\"Validation finished: Map correct\")\n",
        "else:\n",
        "    print(\"Validation finished: Map wrong\")\n"
      ],
      "metadata": {
        "colab": {
          "base_uri": "https://localhost:8080/"
        },
        "id": "6YWFAYPZsnx2",
        "outputId": "d16ef271-f943-434d-f565-0b3e484a632e"
      },
      "execution_count": 13,
      "outputs": [
        {
          "output_type": "stream",
          "name": "stdout",
          "text": [
            "Start validation\n",
            "[0, 1, 0, 0, 0, 0, 1, 0]\n",
            "[0, 1, 0, 1, 1, 0, 0, 0]\n",
            "[0, 0, 0, 0, 0, 0, 0, 0]\n",
            "[0, 1, 1, 1, 1, 1, 0, 0]\n",
            "[0, 0, 0, 0, 0, 0, 0, 0]\n",
            "[1, 1, 1, 0, 0, 1, 0, 1]\n",
            "[0, 0, 0, 0, 0, 1, 0, 0]\n",
            "[1, 1, 1, 1, 0, 1, 0, 0]\n",
            "Validation finished: Map correct\n"
          ]
        }
      ]
    },
    {
      "cell_type": "code",
      "source": [],
      "metadata": {
        "id": "2bVybDIrtzLr"
      },
      "execution_count": null,
      "outputs": []
    }
  ]
}