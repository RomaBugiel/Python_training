{
  "nbformat": 4,
  "nbformat_minor": 0,
  "metadata": {
    "colab": {
      "provenance": [],
      "authorship_tag": "ABX9TyNPisrbMFb6zG+tP/we2eOo",
      "include_colab_link": true
    },
    "kernelspec": {
      "name": "python3",
      "display_name": "Python 3"
    },
    "language_info": {
      "name": "python"
    }
  },
  "cells": [
    {
      "cell_type": "markdown",
      "metadata": {
        "id": "view-in-github",
        "colab_type": "text"
      },
      "source": [
        "<a href=\"https://colab.research.google.com/github/RomaBugiel/Python_training/blob/working_branch/ShipGame_Validator.ipynb\" target=\"_parent\"><img src=\"https://colab.research.google.com/assets/colab-badge.svg\" alt=\"Open In Colab\"/></a>"
      ]
    },
    {
      "cell_type": "code",
      "execution_count": null,
      "metadata": {
        "id": "FLpr5vMKFnf_"
      },
      "outputs": [],
      "source": []
    },
    {
      "cell_type": "markdown",
      "source": [
        "Validate ship game board:\n",
        "* all ships has to be used\n",
        "* ship sizes: [number x length]: [1x1], [2x2], [2x3], [1x4], [1x5]\n",
        "* can be only horizontal or verical\n",
        "* cannot touch\n",
        "\n",
        "\n"
      ],
      "metadata": {
        "id": "A0bAz64gslYK"
      }
    },
    {
      "cell_type": "markdown",
      "source": [
        "Problemy podczas pisania kodu:\n",
        "* ogolnie syntax pythonowy, musze sprawdzac jak sie definiuje set, mape, liste\n",
        "* list comprehesion - tu nie mam wprawy, wiem ze w tym miejscu jest dobrze tego uzyc ale potrzebuje sprawdzic sobie syntax i przyklady\n",
        "* robie bledy typu: && zamiast and, || zamiast or\n",
        "* nie pamietam funkcji typu all(), pop(), append() (wiem ze one sa, ale musze sobie sprawdzic czy add czy append jest uzywane do konkretnej listy)\n",
        "* funckji transform_to_2D nie umialam napisac sama, nie pamietam operacji na stringach jak split()...\n",
        "* Inne bledy:\n",
        "  * dodalam liste do krotki: new_pos = new_pos + [stepv, steph]\n",
        "  * for r in data_size_x zamiast for r in range(data_size_x):\n",
        "\n"
      ],
      "metadata": {
        "id": "3-K3-vr2zGOK"
      }
    },
    {
      "cell_type": "code",
      "source": [
        "def validateMap(check_list):\n",
        "  return all(check_list)"
      ],
      "metadata": {
        "id": "zRq41nCXtdk_"
      },
      "execution_count": 4,
      "outputs": []
    },
    {
      "cell_type": "code",
      "source": [
        "def findShips(data):\n",
        "    # Store ships\n",
        "    ship_list = []\n",
        "\n",
        "    # Board sizes\n",
        "    data_size_x = len(data)\n",
        "    data_size_y = len(data[0])\n",
        "\n",
        "    # List of fields that have been checked\n",
        "    checked_field = [[0 for _ in range(data_size_y)] for _ in range(data_size_x)]\n",
        "\n",
        "    # Iterate through the board\n",
        "    for r in range(data_size_x):\n",
        "        for c in range(data_size_y):\n",
        "            # Skip if checked\n",
        "            if checked_field[r][c] == 1:\n",
        "                continue\n",
        "\n",
        "            # New ship\n",
        "            if data[r][c] == 1 and checked_field[r][c] == 0:\n",
        "                ship = set()\n",
        "                ship_seed = (r, c)\n",
        "                ship.add(ship_seed)\n",
        "                checked_field[r][c] = 1\n",
        "\n",
        "                # Check fields around seed\n",
        "                step_vertical = [-1, 0, 1]\n",
        "                step_horizontal = [-1, 0, 1]\n",
        "\n",
        "                # Make a list of neighbours to be checked\n",
        "                stack = [ship_seed]\n",
        "\n",
        "                while stack:\n",
        "                    current = stack.pop() # remove from list and check neighbours\n",
        "                    for stepv in step_vertical:\n",
        "                        for steph in step_horizontal:\n",
        "                            new_pos = (current[0] + stepv, current[1] + steph)\n",
        "\n",
        "                            # Check borders and check checked_field\n",
        "                            if (0 <= new_pos[0] < data_size_x and\n",
        "                                0 <= new_pos[1] < data_size_y and\n",
        "                                checked_field[new_pos[0]][new_pos[1]] == 0):\n",
        "\n",
        "                                if data[new_pos[0]][new_pos[1]] == 1:\n",
        "                                    ship.add(new_pos)\n",
        "                                    stack.append(new_pos)\n",
        "\n",
        "                                checked_field[new_pos[0]][new_pos[1]] = 1\n",
        "\n",
        "                # Dodanie statku do listy\n",
        "                ship_list.append(list(ship))\n",
        "\n",
        "    return ship_list"
      ],
      "metadata": {
        "id": "kRl5xc4xzz4z"
      },
      "execution_count": 1,
      "outputs": []
    },
    {
      "cell_type": "markdown",
      "source": [],
      "metadata": {
        "id": "4PfXO16DzDqi"
      }
    },
    {
      "cell_type": "code",
      "source": [
        "def check_nb_of_ships(ship_list):\n",
        "\n",
        "  reference = [1, 2, 2, 3, 3, 4, 5]\n",
        "  sample = set()\n",
        "\n",
        "  #for l in range(ship_list):\n",
        "  #  sample.add(len(l))\n",
        "\n",
        "  # Better way:\n",
        "  sample = [len(ship) for ship in ship_list]\n",
        "\n",
        "  reference.sort()\n",
        "  sample.sort()\n",
        "\n",
        "  #if reference == sample:\n",
        "  #  return True\n",
        "  #else:\n",
        "  #  return False\n",
        "\n",
        "  #Better way:\n",
        "  return reference == sample\n"
      ],
      "metadata": {
        "id": "jz5v7KZU2j5m"
      },
      "execution_count": 8,
      "outputs": []
    },
    {
      "cell_type": "code",
      "source": [
        "def check_ship_orientation(ship_list):\n",
        "\n",
        "  for ship in ship_list:\n",
        "\n",
        "    if len(ship) == 1:\n",
        "      continue\n",
        "\n",
        "    diff_x = 0\n",
        "    diff_y = 0\n",
        "\n",
        "    for coord in ship:\n",
        "      diff_x += (ship[0][0] - coord[0])\n",
        "      diff_y += (ship[0][1] - coord[1])\n",
        "\n",
        "    if not (diff_x == 0 or diff_y == 0):\n",
        "      return False\n",
        "    else:\n",
        "      return True"
      ],
      "metadata": {
        "id": "tUx-7UFJ4bBi"
      },
      "execution_count": 9,
      "outputs": []
    },
    {
      "cell_type": "code",
      "source": [
        "def check_ship_orientation_SOURCE(ship_list):\n",
        "\n",
        "    for ship in ship_list:\n",
        "\n",
        "        if len(ship) == 1:\n",
        "            continue\n",
        "\n",
        "        # Create two lists, one with x coordinates of single ship, and second with y\n",
        "        x_coords = [coord[0] for coord in ship]\n",
        "        y_coords = [coord[1] for coord in ship]\n",
        "\n",
        "       #Using set, verifiy if cooridantes are the sem\n",
        "        if len(set(x_coords)) != 1 and len(set(y_coords)) != 1:\n",
        "            return False  # Orientacja jest niepoprawna\n",
        "\n",
        "    return True  # Wszystkie statki mają poprawną orientację\n"
      ],
      "metadata": {
        "id": "kz3_nHdH-ro8"
      },
      "execution_count": null,
      "outputs": []
    },
    {
      "cell_type": "code",
      "source": [
        "def check_separation():\n",
        "  return 1"
      ],
      "metadata": {
        "id": "fPiaqXnQ4s_h"
      },
      "execution_count": null,
      "outputs": []
    },
    {
      "cell_type": "code",
      "source": [
        "def transform_to_2D(data):\n",
        "\n",
        "    # Divide data into rows\n",
        "    rows = data.strip().split('\\n')\n",
        "    # Divied rows into elements\n",
        "    matrix = [ [1 if element == 'x' else 0 for element in row.split()] for row in rows ]\n",
        "\n",
        "    return matrix"
      ],
      "metadata": {
        "id": "OOl92-SJuAcc"
      },
      "execution_count": 3,
      "outputs": []
    },
    {
      "cell_type": "code",
      "source": [
        "print(\"Start validation\")\n",
        "\n",
        "# Data\n",
        "\n",
        "data = \"\"\"\n",
        "  . x . . . . x .\n",
        "  . x . x x . . .\n",
        "  . . . . . . . .\n",
        "  . x x x x x . .\n",
        "  . . . . . . . .\n",
        "  x x x . . x . x\n",
        "  . . . . . x . .\n",
        "  x x x x . x . .\n",
        "\"\"\"\n",
        "\n",
        "# Body\n",
        "\n",
        "# -- Transform data into 2D list with numerical data\n",
        "data_num = transform_to_2D(data)\n",
        "for row in data_num:\n",
        "  print(row)\n",
        "\n",
        "# -- Find ships\n",
        "_ship_list = findShips(data_num)\n",
        "print(_ship_list)\n",
        "\n",
        "# -- Validate if map is proper\n",
        "print(f\"Ship orientation: {check_ship_orientation(_ship_list)}\")\n",
        "\n",
        "_check_list = [check_ship_orientation(_ship_list), True, True]\n",
        "_is_map_correct = validateMap(_check_list)\n",
        "\n",
        "if _is_map_correct == 1:\n",
        "    print(\"Validation finished: Map correct\")\n",
        "else:\n",
        "    print(\"Validation finished: Map wrong\")\n"
      ],
      "metadata": {
        "colab": {
          "base_uri": "https://localhost:8080/"
        },
        "id": "6YWFAYPZsnx2",
        "outputId": "fb3cc863-bbba-4649-bec2-6ed5b5e7c4c3"
      },
      "execution_count": 12,
      "outputs": [
        {
          "output_type": "stream",
          "name": "stdout",
          "text": [
            "Start validation\n",
            "[0, 1, 0, 0, 0, 0, 1, 0]\n",
            "[0, 1, 0, 1, 1, 0, 0, 0]\n",
            "[0, 0, 0, 0, 0, 0, 0, 0]\n",
            "[0, 1, 1, 1, 1, 1, 0, 0]\n",
            "[0, 0, 0, 0, 0, 0, 0, 0]\n",
            "[1, 1, 1, 0, 0, 1, 0, 1]\n",
            "[0, 0, 0, 0, 0, 1, 0, 0]\n",
            "[1, 1, 1, 1, 0, 1, 0, 0]\n",
            "[[(0, 1), (1, 1)], [(0, 6)], [(1, 3), (1, 4)], [(3, 4), (3, 1), (3, 3), (3, 2), (3, 5)], [(5, 0), (5, 1), (5, 2)], [(7, 5), (5, 5), (6, 5)], [(5, 7)], [(7, 0), (7, 1), (7, 2), (7, 3)]]\n",
            "Ship orientation: True\n",
            "Validation finished: Map correct\n"
          ]
        }
      ]
    },
    {
      "cell_type": "code",
      "source": [],
      "metadata": {
        "id": "2bVybDIrtzLr"
      },
      "execution_count": null,
      "outputs": []
    }
  ]
}