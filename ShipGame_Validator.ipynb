{
  "nbformat": 4,
  "nbformat_minor": 0,
  "metadata": {
    "colab": {
      "provenance": [],
      "authorship_tag": "ABX9TyP+ArVvlC6daXjCtyIdOLAL",
      "include_colab_link": true
    },
    "kernelspec": {
      "name": "python3",
      "display_name": "Python 3"
    },
    "language_info": {
      "name": "python"
    }
  },
  "cells": [
    {
      "cell_type": "markdown",
      "metadata": {
        "id": "view-in-github",
        "colab_type": "text"
      },
      "source": [
        "<a href=\"https://colab.research.google.com/github/RomaBugiel/Python_training/blob/working_branch/ShipGame_Validator.ipynb\" target=\"_parent\"><img src=\"https://colab.research.google.com/assets/colab-badge.svg\" alt=\"Open In Colab\"/></a>"
      ]
    },
    {
      "cell_type": "code",
      "execution_count": null,
      "metadata": {
        "id": "FLpr5vMKFnf_"
      },
      "outputs": [],
      "source": []
    },
    {
      "cell_type": "markdown",
      "source": [
        "Validate ship game board:\n",
        "* all ships has to be used\n",
        "* ship sizes: [number x length]: [1x1], [2x2], [2x3], [1x4], [1x5]\n",
        "* can be only horizontal or verical\n",
        "* cannot touch\n",
        "\n",
        "\n"
      ],
      "metadata": {
        "id": "A0bAz64gslYK"
      }
    },
    {
      "cell_type": "markdown",
      "source": [
        "Problemy podczas pisania kodu:\n",
        "* ogolnie syntax pythonowy, musze sprawdzac jak sie definiuje set, mape, liste\n",
        "* list comprehesion - tu nie mam wprawy, wiem ze w tym miejscu jest dobrze tego uzyc ale potrzebuje sprawdzic sobie syntax i przyklady -- *do zrobienia z ~20 prostych cwiczen*\n",
        "* robie bledy typu: && zamiast and, || zamiast or\n",
        "* nie pamietam funkcji typu all(), pop(), append() (wiem ze one sa, ale musze sobie sprawdzic czy add czy append jest uzywane do konkretnej listy)\n",
        "* funckji transform_to_2D nie umialam napisac sama, nie pamietam operacji na stringach jak split()...\n",
        "* w funkcji check_separation nie umialam napisac z glowy tych warunkow (pod katem skladni):\n",
        "      if (adj_r, adj_c) not in ship_positions\n",
        "      if adjacent_positions & ship_positions\n",
        "* Inne bledy:\n",
        "  * dodalam liste do krotki: new_pos = new_pos + [stepv, steph]\n",
        "  * for r in data_size_x zamiast for r in range(data_size_x):\n",
        "  * DFS (Depth-First Search) lub BFS (Breadth-First Search) - w ogole nie znam tych algorytmow -- *do ogarniecia*\n"
      ],
      "metadata": {
        "id": "3-K3-vr2zGOK"
      }
    },
    {
      "cell_type": "code",
      "source": [
        "def validateMap(check_list):\n",
        "  return all(check_list)"
      ],
      "metadata": {
        "id": "zRq41nCXtdk_"
      },
      "execution_count": 1,
      "outputs": []
    },
    {
      "cell_type": "code",
      "source": [
        "def findShips(data):\n",
        "    # Store ships\n",
        "    ship_list = []\n",
        "\n",
        "    # Board sizes\n",
        "    data_size_x = len(data)\n",
        "    data_size_y = len(data[0])\n",
        "\n",
        "    # List of fields that have been checked\n",
        "    checked_field = [[0 for _ in range(data_size_y)] for _ in range(data_size_x)]\n",
        "\n",
        "    # Iterate through the board\n",
        "    for r in range(data_size_x):\n",
        "        for c in range(data_size_y):\n",
        "            # Skip if checked\n",
        "            if checked_field[r][c] == 1:\n",
        "                continue\n",
        "\n",
        "            # New ship\n",
        "            if data[r][c] == 1 and checked_field[r][c] == 0:\n",
        "                ship = set()\n",
        "                ship_seed = (r, c)\n",
        "                ship.add(ship_seed)\n",
        "                checked_field[r][c] = 1\n",
        "\n",
        "                # Check fields around seed\n",
        "                step_vertical = [-1, 0, 1]\n",
        "                step_horizontal = [-1, 0, 1]\n",
        "\n",
        "                # Make a list of neighbours to be checked\n",
        "                stack = [ship_seed]\n",
        "\n",
        "                while stack:\n",
        "                    current = stack.pop() # remove from list and check neighbours\n",
        "                    for stepv in step_vertical:\n",
        "                        for steph in step_horizontal:\n",
        "                            new_pos = (current[0] + stepv, current[1] + steph)\n",
        "\n",
        "                            # Check borders and check checked_field\n",
        "                            if (0 <= new_pos[0] < data_size_x and\n",
        "                                0 <= new_pos[1] < data_size_y and\n",
        "                                checked_field[new_pos[0]][new_pos[1]] == 0):\n",
        "\n",
        "                                if data[new_pos[0]][new_pos[1]] == 1:\n",
        "                                    ship.add(new_pos)\n",
        "                                    stack.append(new_pos)\n",
        "\n",
        "                                checked_field[new_pos[0]][new_pos[1]] = 1\n",
        "\n",
        "                # Dodanie statku do listy\n",
        "                ship_list.append(list(ship))\n",
        "\n",
        "    return ship_list"
      ],
      "metadata": {
        "id": "kRl5xc4xzz4z"
      },
      "execution_count": 2,
      "outputs": []
    },
    {
      "cell_type": "markdown",
      "source": [],
      "metadata": {
        "id": "4PfXO16DzDqi"
      }
    },
    {
      "cell_type": "code",
      "source": [
        "def check_nb_of_ships(ship_list):\n",
        "\n",
        "  reference = [1, 2, 2, 3, 3, 4, 5]\n",
        "  sample = set()\n",
        "\n",
        "  #for l in range(ship_list):\n",
        "  #  sample.add(len(l))\n",
        "\n",
        "  # Better way:\n",
        "  sample = [len(ship) for ship in ship_list]\n",
        "\n",
        "  reference.sort()\n",
        "  sample.sort()\n",
        "\n",
        "  #if reference == sample:\n",
        "  #  return True\n",
        "  #else:\n",
        "  #  return False\n",
        "\n",
        "  #Better way:\n",
        "  return reference == sample\n"
      ],
      "metadata": {
        "id": "jz5v7KZU2j5m"
      },
      "execution_count": 3,
      "outputs": []
    },
    {
      "cell_type": "code",
      "source": [
        "def check_ship_orientation(ship_list):\n",
        "\n",
        "  for ship in ship_list:\n",
        "\n",
        "    if len(ship) == 1:\n",
        "      continue\n",
        "\n",
        "    diff_x = 0\n",
        "    diff_y = 0\n",
        "\n",
        "    for coord in ship:\n",
        "      diff_x += abs((ship[0][0] - coord[0]))\n",
        "      diff_y += abs((ship[0][1] - coord[1]))\n",
        "\n",
        "    if not (diff_x == 0 or diff_y == 0):\n",
        "      return False\n",
        "    else:\n",
        "      return True"
      ],
      "metadata": {
        "id": "tUx-7UFJ4bBi"
      },
      "execution_count": 11,
      "outputs": []
    },
    {
      "cell_type": "code",
      "source": [
        "def check_ship_orientation_SOURCE(ship_list):\n",
        "\n",
        "    for ship in ship_list:\n",
        "\n",
        "        if len(ship) == 1:\n",
        "            continue\n",
        "\n",
        "        # Create two lists, one with x coordinates of single ship, and second with y\n",
        "        x_coords = [coord[0] for coord in ship]\n",
        "        y_coords = [coord[1] for coord in ship]\n",
        "\n",
        "       #Using set, verifiy if cooridantes are the sem\n",
        "        if len(set(x_coords)) != 1 and len(set(y_coords)) != 1:\n",
        "            return False  # Orientacja jest niepoprawna\n",
        "\n",
        "    return True  # Wszystkie statki mają poprawną orientację\n"
      ],
      "metadata": {
        "id": "kz3_nHdH-ro8"
      },
      "execution_count": 5,
      "outputs": []
    },
    {
      "cell_type": "code",
      "source": [
        "def check_separation(ship_list):\n",
        "\n",
        "  max_rows = len(data)\n",
        "  max_cols = len(data[0])\n",
        "\n",
        "  #Check set of all fields with ships\n",
        "  ship_positions = set()\n",
        "  for ship in ship_list:\n",
        "    for r, c in ship:\n",
        "      ship_positions.add((r, c))\n",
        "\n",
        "  #Create set of all adjenced ships\n",
        "  directions = [(-1, 0), (1, 0), (0, -1), (0, 1), (-1, -1), (-1, 1), (1, -1), (1, 1)]\n",
        "  adjacent_positions = set()\n",
        "\n",
        "  for ship in ship_list:\n",
        "    for r, c in ship:\n",
        "      for dr, dc in directions:\n",
        "        adj_r, adj_c = r + dr, c + dc\n",
        "        if(adj_r, adj_c) not in ship_positions:\n",
        "          adjacent_positions.add((adj_r, adj_c))\n",
        "          #print(f\"check: {(adj_r, adj_c)}\")\n",
        "\n",
        "\n",
        "  #for item in ship_positions:\n",
        "  #  print(item)\n",
        "\n",
        "  #for item in adjacent_positions:\n",
        "  #  print(item)\n",
        "\n",
        "  #Check if both sets have comomon parts - if not, ships are not touching each other\n",
        "  if adjacent_positions & ship_positions:\n",
        "    return False\n",
        "  else:\n",
        "    return True\n"
      ],
      "metadata": {
        "id": "fPiaqXnQ4s_h"
      },
      "execution_count": 30,
      "outputs": []
    },
    {
      "cell_type": "code",
      "source": [
        "def transform_to_2D(data):\n",
        "\n",
        "    # Divide data into rows\n",
        "    rows = data.strip().split('\\n')\n",
        "    # Divied rows into elements\n",
        "    matrix = [ [1 if element == 'x' else 0 for element in row.split()] for row in rows ]\n",
        "\n",
        "    return matrix"
      ],
      "metadata": {
        "id": "OOl92-SJuAcc"
      },
      "execution_count": 7,
      "outputs": []
    },
    {
      "cell_type": "code",
      "source": [
        "print(\"Start validation\")\n",
        "\n",
        "# Data\n",
        "\n",
        "data = \"\"\"\n",
        "  . x . . . x x .\n",
        "  . x . x x . . .\n",
        "  . . . . . . . .\n",
        "  . x x x x x . .\n",
        "  . . . . . . . .\n",
        "  x x x . . x . x\n",
        "  . . . . . x . .\n",
        "  x x x x . x . .\n",
        "\"\"\"\n",
        "\n",
        "# Body\n",
        "\n",
        "# -- Transform data into 2D list with numerical data\n",
        "data_num = transform_to_2D(data)\n",
        "for row in data_num:\n",
        "  print(row)\n",
        "\n",
        "# -- Find ships\n",
        "_ship_list = findShips(data_num)\n",
        "print(_ship_list)\n",
        "\n",
        "# -- Validate if map is proper\n",
        "\n",
        "_condition_nb_of_ships = check_nb_of_ships(_ship_list)\n",
        "_condition_ship_orientation = check_ship_orientation_SOURCE(_ship_list)\n",
        "_condition_separation = check_separation(_ship_list)\n",
        "\n",
        "print(f\"Number of ships: {_condition_nb_of_ships}\")\n",
        "print(f\"Ship orientation: {_condition_ship_orientation}\")\n",
        "print(f\"Ships separation: {_condition_separation}\")\n",
        "\n",
        "_check_list = [_condition_nb_of_ships, _condition_ship_orientation, _condition_separation]\n",
        "_is_map_correct = validateMap(_check_list)\n",
        "\n",
        "if _is_map_correct == 1:\n",
        "    print(\"Validation finished: Map correct\")\n",
        "else:\n",
        "    print(\"Validation finished: Map wrong\")\n"
      ],
      "metadata": {
        "colab": {
          "base_uri": "https://localhost:8080/"
        },
        "id": "6YWFAYPZsnx2",
        "outputId": "ce74e4cc-df74-4a28-a714-48120bce664e"
      },
      "execution_count": 29,
      "outputs": [
        {
          "output_type": "stream",
          "name": "stdout",
          "text": [
            "Start validation\n",
            "[0, 1, 0, 0, 0, 1, 1, 0]\n",
            "[0, 1, 0, 1, 1, 0, 0, 0]\n",
            "[0, 0, 0, 0, 0, 0, 0, 0]\n",
            "[0, 1, 1, 1, 1, 1, 0, 0]\n",
            "[0, 0, 0, 0, 0, 0, 0, 0]\n",
            "[1, 1, 1, 0, 0, 1, 0, 1]\n",
            "[0, 0, 0, 0, 0, 1, 0, 0]\n",
            "[1, 1, 1, 1, 0, 1, 0, 0]\n",
            "[[(0, 1), (1, 1)], [(1, 4), (1, 3), (0, 5), (0, 6)], [(3, 4), (3, 1), (3, 3), (3, 2), (3, 5)], [(5, 0), (5, 1), (5, 2)], [(7, 5), (5, 5), (6, 5)], [(5, 7)], [(7, 0), (7, 1), (7, 2), (7, 3)]]\n",
            "(3, 4)\n",
            "(3, 1)\n",
            "(5, 1)\n",
            "(5, 7)\n",
            "(0, 5)\n",
            "(1, 3)\n",
            "(7, 1)\n",
            "(6, 5)\n",
            "(3, 3)\n",
            "(5, 0)\n",
            "(0, 1)\n",
            "(7, 0)\n",
            "(7, 3)\n",
            "(3, 2)\n",
            "(3, 5)\n",
            "(5, 2)\n",
            "(5, 5)\n",
            "(1, 1)\n",
            "(1, 4)\n",
            "(0, 6)\n",
            "(7, 2)\n",
            "(7, 5)\n",
            "(4, 0)\n",
            "(4, 3)\n",
            "(5, -1)\n",
            "(5, 4)\n",
            "(4, 6)\n",
            "(8, 0)\n",
            "(0, 2)\n",
            "(8, 3)\n",
            "(8, 6)\n",
            "(2, 2)\n",
            "(1, 0)\n",
            "(1, 6)\n",
            "(2, 5)\n",
            "(7, -1)\n",
            "(7, 4)\n",
            "(6, 2)\n",
            "(-1, 4)\n",
            "(-1, 1)\n",
            "(-1, 7)\n",
            "(6, 8)\n",
            "(4, 2)\n",
            "(3, 0)\n",
            "(4, 5)\n",
            "(5, 6)\n",
            "(4, 8)\n",
            "(3, 6)\n",
            "(5, 3)\n",
            "(8, 2)\n",
            "(8, 5)\n",
            "(0, 7)\n",
            "(2, 4)\n",
            "(1, 2)\n",
            "(0, 4)\n",
            "(2, 1)\n",
            "(1, 5)\n",
            "(6, 1)\n",
            "(6, -1)\n",
            "(6, 4)\n",
            "(-1, 0)\n",
            "(6, 7)\n",
            "(6, 3)\n",
            "(7, 6)\n",
            "(-1, 6)\n",
            "(4, -1)\n",
            "(4, 1)\n",
            "(4, 7)\n",
            "(4, 4)\n",
            "(8, -1)\n",
            "(8, 4)\n",
            "(0, 0)\n",
            "(5, 8)\n",
            "(8, 1)\n",
            "(0, 3)\n",
            "(2, 0)\n",
            "(2, 3)\n",
            "(1, 7)\n",
            "(2, 6)\n",
            "(6, 0)\n",
            "(6, 6)\n",
            "(-1, 2)\n",
            "(-1, 5)\n",
            "Number of ships: False\n",
            "Ship orientation: False\n",
            "Ships separation: True\n",
            "Validation finished: Map wrong\n"
          ]
        }
      ]
    },
    {
      "cell_type": "code",
      "source": [],
      "metadata": {
        "id": "2bVybDIrtzLr"
      },
      "execution_count": 8,
      "outputs": []
    }
  ]
}